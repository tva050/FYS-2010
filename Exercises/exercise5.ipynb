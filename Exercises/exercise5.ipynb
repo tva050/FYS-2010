{
 "cells": [
  {
   "cell_type": "code",
   "execution_count": null,
   "metadata": {},
   "outputs": [],
   "source": [
    "from PIL import Image\n",
    "import cv2\n",
    "import skimage\n",
    "import numpy as np\n",
    "import matplotlib.pyplot as plt\n",
    "import matplotlib.colors as colors\n",
    "import scipy.io as sio\n",
    "import scipy as sc\n",
    "import pandas as pd"
   ]
  },
  {
   "attachments": {},
   "cell_type": "markdown",
   "metadata": {
    "tags": []
   },
   "source": [
    "# Task 1\n"
   ]
  },
  {
   "attachments": {},
   "cell_type": "markdown",
   "metadata": {},
   "source": [
    "### a) <br/>\n",
    "4 filters which can be used as high-pass filters. <br/><br/>\n",
    "Fourier domain filers:<br/>\n",
    "  * Ideal (IHPF)<br/>\n",
    "    $H(u,v) = \\begin{cases}\n",
    "        1       & \\quad \\text{if } D(u,v) > D_0\\\\\n",
    "        0  & \\quad \\text{if } D(u,v) < D_0\n",
    "      \\end{cases} $ \n",
    "  * Gaussian (GHPF) <br/>\n",
    "    $H(u,v) = \\frac{1}{1+[D_0/D(u,v)]^2n} $\n",
    "  * Butterworth<br/>\n",
    "    $H(u,v) = 1-e^{-D^2(u,v)/2\\cdot D_0^2}$ \n"
   ]
  },
  {
   "attachments": {},
   "cell_type": "markdown",
   "metadata": {},
   "source": [
    "Physical domain filters: \n",
    "\n",
    "  *  Laplacian Filter <br/>\n",
    "    $g(x,y) = f(x,y)\\pm \\Delta f(x,y)$ \n",
    "  *  Gradient Filter (Non-Linear)<br/>\n",
    "    $\\Delta f = \\Big(\\begin{array}{c}\n",
    "          g_x \\\\\n",
    "          g_y\n",
    "        \\end{array}\\Big)$\n",
    "  <br/><br/>\n",
    "\n"
   ]
  }
 ],
 "metadata": {
  "kernelspec": {
   "display_name": "Python 3",
   "language": "python",
   "name": "python3"
  },
  "language_info": {
   "name": "python",
   "version": "3.10.10"
  },
  "orig_nbformat": 4,
  "vscode": {
   "interpreter": {
    "hash": "fd3acc081023c07d18043ab6969e625108ee960d32fab5f2cdc3a942bfcb088c"
   }
  }
 },
 "nbformat": 4,
 "nbformat_minor": 2
}
